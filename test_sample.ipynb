{
 "cells": [
  {
   "cell_type": "code",
   "execution_count": 10,
   "outputs": [
    {
     "name": "stdout",
     "text": [
      "[[1. 4. 9.]\n [1. 4. 9.]\n [1. 4. 9.]]\n"
     ],
     "output_type": "stream"
    }
   ],
   "source": [
    "import numpy as np\n",
    "a = np.zeros(shape=(3,3))\n",
    "try:\n",
    "    for i in range(3):\n",
    "        for j in range(3):\n",
    "            a[i,j] = (int(input(\"only no:\"))) \n",
    "    \n",
    "    b = []\n",
    "    i = 0\n",
    "    for i in range(3):\n",
    "        b.append(int(input(\"Enter a number\")))\n",
    "    c = np.multiply(a, b)\n",
    "    print(c)\n",
    "except:\n",
    "    print(\"Invalid Data Entered\")\n"
   ],
   "metadata": {
    "collapsed": false,
    "pycharm": {
     "name": "#%%\n",
     "is_executing": false
    }
   }
  }
 ],
 "metadata": {
  "language_info": {
   "codemirror_mode": {
    "name": "ipython",
    "version": 2
   },
   "file_extension": ".py",
   "mimetype": "text/x-python",
   "name": "python",
   "nbconvert_exporter": "python",
   "pygments_lexer": "ipython2",
   "version": "2.7.6"
  },
  "kernelspec": {
   "name": "python3",
   "language": "python",
   "display_name": "Python 3"
  },
  "pycharm": {
   "stem_cell": {
    "cell_type": "raw",
    "source": [],
    "metadata": {
     "collapsed": false
    }
   }
  }
 },
 "nbformat": 4,
 "nbformat_minor": 0
}